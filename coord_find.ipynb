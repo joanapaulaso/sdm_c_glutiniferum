{
 "cells": [
  {
   "cell_type": "markdown",
   "metadata": {},
   "source": [
    "# Coordinates finder notebook\n",
    "\n",
    "### This is a Jupiter Notebook created to recall the source of matching geographic coordinates and give feedback of the links or codebars associated with each matching ones. It was created for the study of _Cyrtopodium glutiniferum_ orchid species distribution, to keep it neat and organized.\n",
    "\n",
    "### Created by Joana Paula Oliveira\n",
    "### joanapaulasoliveira@gmail.com\n",
    "\n",
    "## Importing the main Excel file"
   ]
  },
  {
   "cell_type": "code",
   "execution_count": 1,
   "metadata": {},
   "outputs": [],
   "source": [
    "import pandas as pd\n",
    "import numpy as np\n",
    "\n",
    "xls = pd.ExcelFile(\"all_sources_cyrto_distrib.xlsx\")\n",
    "df_prev = pd.read_excel(xls, \"prev\")\n",
    "df_rf = pd.read_excel(xls, \"RF\")\n",
    "df_gb = pd.read_excel(xls, \"GB\")\n",
    "df_sl = pd.read_excel(xls, \"SL\")\n",
    "df_sb = pd.read_excel(xls, \"SB\")\n",
    "df_selected = pd.read_excel(xls, \"Selected\")\n"
   ]
  },
  {
   "cell_type": "markdown",
   "metadata": {},
   "source": [
    "## Rounding the decimal numbers to make sure the analysis feedback will find matches to each one"
   ]
  },
  {
   "cell_type": "code",
   "execution_count": 2,
   "metadata": {},
   "outputs": [],
   "source": [
    "df_prev[\"decimalLongitude\"] = df_prev[\"decimalLongitude\"].round(4)\n",
    "df_prev[\"decimalLatitude\"] = df_prev[\"decimalLatitude\"].round(4)\n",
    "\n",
    "df_rf[\"decimalLongitude\"] = df_rf[\"decimalLongitude\"].round(4)\n",
    "df_rf[\"decimalLatitude\"] = df_rf[\"decimalLatitude\"].round(4)\n",
    "\n",
    "df_gb[\"decimalLongitude\"] = df_gb[\"decimalLongitude\"].round(4)\n",
    "df_gb[\"decimalLatitude\"] = df_gb[\"decimalLatitude\"].round(4)\n",
    "\n",
    "df_sl[\"decimalLongitude\"] = df_sl[\"decimalLongitude\"].round(4)\n",
    "df_sl[\"decimalLatitude\"] = df_sl[\"decimalLatitude\"].round(4)\n",
    "\n",
    "df_sb[\"decimalLongitude\"] = df_sb[\"decimalLongitude\"].round(4)\n",
    "df_sb[\"decimalLatitude\"] = df_sb[\"decimalLatitude\"].round(4)\n",
    "\n",
    "df_selected[\"decimalLongitude\"] = df_selected[\"decimalLongitude\"].round(4)\n",
    "df_selected[\"decimalLatitude\"] = df_selected[\"decimalLatitude\"].round(4)"
   ]
  },
  {
   "cell_type": "markdown",
   "metadata": {},
   "source": [
    "## Iterating over recycled distribution points, obtained in 2020"
   ]
  },
  {
   "cell_type": "code",
   "execution_count": 3,
   "metadata": {},
   "outputs": [],
   "source": [
    "for l, ln in df_selected.iterrows():\n",
    "  for i, row in df_prev.iterrows():\n",
    "\n",
    "    value_lat = ln[\"decimalLatitude\"]\n",
    "    prev_value_lat = row[\"decimalLatitude\"]\n",
    "    value_long = ln[\"decimalLongitude\"]\n",
    "    prev_value_long = row[\"decimalLongitude\"]\n",
    "    link = row[\"link\"]\n",
    "    coord_id = row[\"ID\"]\n",
    "\n",
    "    if value_lat == prev_value_lat and value_long == prev_value_long:\n",
    "      df_selected.loc[l, \"prev\"] = link\n",
    "      df_selected.loc[l, \"prev_ID\"] = coord_id\n"
   ]
  },
  {
   "cell_type": "markdown",
   "metadata": {},
   "source": [
    "## Iterating over REFLORA points, obtained in June 2022"
   ]
  },
  {
   "cell_type": "code",
   "execution_count": 4,
   "metadata": {},
   "outputs": [],
   "source": [
    "for i, row in df_rf.iterrows():\n",
    "  for l, ln in df_selected.iterrows():\n",
    "\n",
    "    value_lat = ln[\"decimalLatitude\"]\n",
    "    rf_value_lat = row[\"decimalLatitude\"]\n",
    "    value_long = ln[\"decimalLongitude\"]\n",
    "    rf_value_long = row[\"decimalLongitude\"]\n",
    "    barcode = row[\"barcode\"]\n",
    "    coord_id = row[\"ID\"]\n",
    "\n",
    "    if value_lat == rf_value_lat and value_long == rf_value_long:\n",
    "      df_selected.loc[l, \"RF\"] = \"https://reflora.jbrj.gov.br/reflora/herbarioVirtual/ConsultaPublicoHVUC/BemVindoConsultaPublicaHVConsultar.do?modoConsulta=LISTAGEM&quantidadeResultado=20&codigoBarra={}\".format(barcode)\n",
    "      df_selected.loc[l, \"RF_ID\"] = coord_id\n"
   ]
  },
  {
   "cell_type": "markdown",
   "metadata": {},
   "source": [
    "## Iterating over GBIF points, obtained in June 2022"
   ]
  },
  {
   "cell_type": "code",
   "execution_count": 5,
   "metadata": {},
   "outputs": [],
   "source": [
    "for i, row in df_gb.iterrows():\n",
    "  for l, ln in df_selected.iterrows():\n",
    "\n",
    "    value_lat = ln[\"decimalLatitude\"]\n",
    "    gb_value_lat = row[\"decimalLatitude\"]\n",
    "    value_long = ln[\"decimalLongitude\"]\n",
    "    gb_value_long = row[\"decimalLongitude\"]\n",
    "    gbifID = row[\"gbifID\"]\n",
    "    coord_id = row[\"ID\"]\n",
    "\n",
    "    if value_lat == gb_value_lat and value_long == gb_value_long:\n",
    "      df_selected.loc[l, \"GB\"] = \"https://www.gbif.org/occurrence/{}\".format(gbifID)\n",
    "      df_selected.loc[l, \"GB_ID\"] = coord_id\n"
   ]
  },
  {
   "cell_type": "markdown",
   "metadata": {},
   "source": [
    "## Iterating over SpeciesLink points, obtained in June 2022"
   ]
  },
  {
   "cell_type": "code",
   "execution_count": 6,
   "metadata": {},
   "outputs": [],
   "source": [
    "for i, row in df_sl.iterrows():\n",
    "  for l, ln in df_selected.iterrows():\n",
    "\n",
    "    value_lat = ln[\"decimalLatitude\"]\n",
    "    sl_value_lat = row[\"decimalLatitude\"]\n",
    "    value_long = ln[\"decimalLongitude\"]\n",
    "    sl_value_long = row[\"decimalLongitude\"]\n",
    "    barcode = row[\"barcode\"]\n",
    "    coord_id = row[\"ID\"]\n",
    "\n",
    "    if value_lat == sl_value_lat and value_long == sl_value_long:\n",
    "      df_selected.loc[l, \"SL\"] = barcode\n",
    "      df_selected.loc[l, \"SL_ID\"] = coord_id"
   ]
  },
  {
   "cell_type": "markdown",
   "metadata": {},
   "source": [
    "## Iterating over SIBBR points, obtained in June 2022"
   ]
  },
  {
   "cell_type": "code",
   "execution_count": 7,
   "metadata": {},
   "outputs": [],
   "source": [
    "for i, row in df_sb.iterrows():\n",
    "  for l, ln in df_selected.iterrows():\n",
    "\n",
    "    value_lat = ln[\"decimalLatitude\"]\n",
    "    sb_value_lat = row[\"decimalLatitude\"]\n",
    "    value_long = ln[\"decimalLongitude\"]\n",
    "    sb_value_long = row[\"decimalLongitude\"]\n",
    "    sibbrID = row[\"sibbrID\"]\n",
    "    coord_id = row[\"ID\"]\n",
    "\n",
    "    if value_lat == sb_value_lat and value_long == sb_value_long:\n",
    "      df_selected.loc[l, \"SB\"] = \"https://ala-hub.sibbr.gov.br/ala-hub/occurrences/{}\".format(sibbrID)\n",
    "      df_selected.loc[l, \"SB_ID\"] = coord_id\n"
   ]
  },
  {
   "cell_type": "markdown",
   "metadata": {},
   "source": [
    "## Saving file with result"
   ]
  },
  {
   "cell_type": "code",
   "execution_count": 8,
   "metadata": {},
   "outputs": [],
   "source": [
    "# print(df_selected)\n",
    "\n",
    "np.savetxt(r'np_1.txt', df_selected,\n",
    "           header=\"species\\tdecimalLongitude\\tdecimalLatitude\\tprev\\tRF\\tGB\\tSL\\tSB\\tprev_ID\\tRF_ID\\tGB_ID\\tSL_ID\\tSB_ID\", delimiter='\\t', fmt='%s')"
   ]
  }
 ],
 "metadata": {
  "kernelspec": {
   "display_name": "Python 3",
   "language": "python",
   "name": "python3"
  },
  "language_info": {
   "codemirror_mode": {
    "name": "ipython",
    "version": 3
   },
   "file_extension": ".py",
   "mimetype": "text/x-python",
   "name": "python",
   "nbconvert_exporter": "python",
   "pygments_lexer": "ipython3",
   "version": "3.10.7"
  },
  "orig_nbformat": 4,
  "vscode": {
   "interpreter": {
    "hash": "3c32c0614abf3f383ac5434e7f67efdcfdcd21ab2cebdd1098cd7517da000a33"
   }
  }
 },
 "nbformat": 4,
 "nbformat_minor": 2
}
